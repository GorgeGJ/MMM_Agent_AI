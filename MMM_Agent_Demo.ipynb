{
 "cells": [
  {
   "cell_type": "markdown",
   "id": "07b0c8e4",
   "metadata": {},
   "source": [
    "# 🧠 MMM Agent AI – Use Case Demo\n",
    "\n",
    "This notebook demonstrates how to use the `get_historical_contribution` and `simulate_budget_scenario` functions from the MMM Agent AI tool."
   ]
  },
  {
   "cell_type": "code",
   "execution_count": null,
   "id": "0b77c85e",
   "metadata": {},
   "outputs": [],
   "source": [
    "import pandas as pd\n",
    "import numpy as np\n",
    "from agent.tools import get_historical_contribution, simulate_budget_scenario\n"
   ]
  },
  {
   "cell_type": "code",
   "execution_count": null,
   "id": "b4e46950",
   "metadata": {},
   "outputs": [],
   "source": [
    "# Display the internal simulated dataset (used inside tools.py)\n",
    "from agent.tools import df_mmm\n",
    "df_mmm"
   ]
  },
  {
   "cell_type": "markdown",
   "id": "0b6e1bf7",
   "metadata": {},
   "source": [
    "## 📊 Example 1: Historical Marketing Contribution"
   ]
  },
  {
   "cell_type": "code",
   "execution_count": null,
   "id": "6f99e4e9",
   "metadata": {},
   "outputs": [],
   "source": [
    "# Query: How much did Paid Social contribute in 2024?\n",
    "get_historical_contribution(\"Paid Social\", \"2024\")"
   ]
  },
  {
   "cell_type": "markdown",
   "id": "36cf7b5b",
   "metadata": {},
   "source": [
    "## 💸 Example 2: Scenario Simulation"
   ]
  },
  {
   "cell_type": "code",
   "execution_count": null,
   "id": "8f7fc7d2",
   "metadata": {},
   "outputs": [],
   "source": [
    "# Scenario: Invest $500,000 more in YouTube in 2023\n",
    "simulate_budget_scenario(\"YouTube\", 500_000, \"2023\")"
   ]
  }
 ],
 "metadata": {},
 "nbformat": 4,
 "nbformat_minor": 5
}